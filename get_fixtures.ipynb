{
 "cells": [
  {
   "cell_type": "code",
   "execution_count": 1,
   "metadata": {},
   "outputs": [
    {
     "name": "stdout",
     "output_type": "stream",
     "text": [
      "pygame 2.6.1 (SDL 2.28.4, Python 3.12.3)\n",
      "Hello from the pygame community. https://www.pygame.org/contribute.html\n"
     ]
    }
   ],
   "source": [
    "import requests\n",
    "import pandas as pd\n",
    "import time\n",
    "from pygame import mixer #for sound\n",
    "from datetime import datetime, timedelta #for looping over date\n",
    "import numpy as np"
   ]
  },
  {
   "cell_type": "code",
   "execution_count": 2,
   "metadata": {},
   "outputs": [],
   "source": [
    "API_key = 'JTFthLtGYuKFQK47MPvQcrabXJRJPk5nUEgaric4f17oP5VJcHyHqsqCMWXu'\n",
    "\n",
    "#append to dictipnary \n",
    "def app_dictionary(id, list, dictionary):\n",
    "    if id not in dictionary: #checks if column with key already exists \n",
    "        dictionary[id] = [list]\n",
    "    else:\n",
    "        dictionary[id].append(list) #if yes, it appends to key value\n",
    "\n",
    "#running api calls and returning result + pagination\n",
    "def run_api(api_call):\n",
    "    try:\n",
    "        result = requests.get(api_call)\n",
    "        result = result.json()\n",
    "    except ValueError:\n",
    "        print(f\"Failed to decode JSON. Please check API call: {api_call}\")\n",
    "\n",
    "    #checks if there is a next page\n",
    "    #if yes it returns true, if no it returns false\n",
    "    try:\n",
    "        has_more = result['pagination']['has_more']\n",
    "    except:\n",
    "        has_more = False\n",
    "\n",
    "    try:\n",
    "        rate_limit = result['rate_limit']['remaining']\n",
    "        reset = result['rate_limit']['resets_in_seconds']\n",
    "    except:\n",
    "        print('no rate limit available')\n",
    "\n",
    "    return result, has_more, rate_limit, reset\n",
    "\n",
    "#function for playing sound\n",
    "def play_sound():\n",
    "    mixer.init()\n",
    "    mixer.music.load('done-for-you.mp3')\n",
    "    mixer.music.play()\n",
    "\n",
    "def run_pages(api_first, api_second): \n",
    "    results, has_more, rate_limit, reset = run_api(f\"{api_first}{api_second}\")\n",
    "\n",
    "    page = 2\n",
    "    while has_more == True:\n",
    "        if int(rate_limit) > 1:\n",
    "            next_results, has_more, rate_limit, reset = run_api(f\"{api_first}page={page}&{api_second}\")\n",
    "            results['data'] = results['data'] + next_results['data']\n",
    "            page += 1\n",
    "        else:\n",
    "            print(f'Starting sleep timer for: {reset} seconds...')\n",
    "            time.sleep(int(reset))\n",
    "    else:\n",
    "        pass\n",
    "        \n",
    "    return results"
   ]
  },
  {
   "cell_type": "markdown",
   "metadata": {},
   "source": [
    "### **Load data**\n",
    "<br>\n",
    "Need to find which teams have played for which seasons, and then set the time interval to the season duration and only get the data for the correct teams."
   ]
  },
  {
   "cell_type": "code",
   "execution_count": 3,
   "metadata": {},
   "outputs": [],
   "source": [
    "teams_df = pd.read_csv('data/teams.csv')\n",
    "seasons_df = pd.read_csv('data/seasons.csv')\n",
    "leagues_df = pd.read_csv('data/leagues.csv')"
   ]
  },
  {
   "cell_type": "markdown",
   "metadata": {},
   "source": [
    "Creating dictionary with seasons start date, end date, id, and teams participating in the season"
   ]
  },
  {
   "cell_type": "code",
   "execution_count": 48,
   "metadata": {},
   "outputs": [],
   "source": [
    "season_dict = {'id':[], 'starting_at':[], 'ending_at':[]}\n",
    "for row in seasons_df.index:\n",
    "    app_dictionary('id', str(seasons_df.iloc[row]['id']), season_dict)\n",
    "    app_dictionary('starting_at', str(seasons_df.iloc[row]['starting_at']), season_dict)\n",
    "    app_dictionary('ending_at', seasons_df.iloc[row]['ending_at'], season_dict)\n",
    "    app_dictionary('teams', [i for i in teams_df.loc[teams_df['season_id'] == int(seasons_df.iloc[row]['id'])]['id']], season_dict)\n"
   ]
  },
  {
   "cell_type": "code",
   "execution_count": 54,
   "metadata": {},
   "outputs": [
    {
     "data": {
      "text/html": [
       "<div>\n",
       "<style scoped>\n",
       "    .dataframe tbody tr th:only-of-type {\n",
       "        vertical-align: middle;\n",
       "    }\n",
       "\n",
       "    .dataframe tbody tr th {\n",
       "        vertical-align: top;\n",
       "    }\n",
       "\n",
       "    .dataframe thead th {\n",
       "        text-align: right;\n",
       "    }\n",
       "</style>\n",
       "<table border=\"1\" class=\"dataframe\">\n",
       "  <thead>\n",
       "    <tr style=\"text-align: right;\">\n",
       "      <th></th>\n",
       "      <th>id</th>\n",
       "      <th>starting_at</th>\n",
       "      <th>ending_at</th>\n",
       "      <th>teams</th>\n",
       "    </tr>\n",
       "  </thead>\n",
       "  <tbody>\n",
       "    <tr>\n",
       "      <th>0</th>\n",
       "      <td>19734</td>\n",
       "      <td>2022-08-05</td>\n",
       "      <td>2023-05-28</td>\n",
       "      <td>[78, 11, 8, 19, 42, 29, 71, 51, 14, 236, 52, 2...</td>\n",
       "    </tr>\n",
       "    <tr>\n",
       "      <th>1</th>\n",
       "      <td>19744</td>\n",
       "      <td>2022-08-05</td>\n",
       "      <td>2023-05-27</td>\n",
       "      <td>[3317, 1079, 510, 3321, 3543, 68, 82, 3320, 67...</td>\n",
       "    </tr>\n",
       "    <tr>\n",
       "      <th>2</th>\n",
       "      <td>19799</td>\n",
       "      <td>2022-08-12</td>\n",
       "      <td>2023-06-04</td>\n",
       "      <td>[3477, 3468, 485, 36, 1099, 361, 6827, 645, 23...</td>\n",
       "    </tr>\n",
       "    <tr>\n",
       "      <th>3</th>\n",
       "      <td>19806</td>\n",
       "      <td>2022-08-13</td>\n",
       "      <td>2023-06-11</td>\n",
       "      <td>[10722, 2930, 397, 522, 1123, 625, 345, 1628, ...</td>\n",
       "    </tr>\n",
       "    <tr>\n",
       "      <th>4</th>\n",
       "      <td>21646</td>\n",
       "      <td>2023-08-11</td>\n",
       "      <td>2024-05-19</td>\n",
       "      <td>[78, 11, 8, 19, 29, 115, 51, 21, 14, 236, 52, ...</td>\n",
       "    </tr>\n",
       "  </tbody>\n",
       "</table>\n",
       "</div>"
      ],
      "text/plain": [
       "      id starting_at   ending_at  \\\n",
       "0  19734  2022-08-05  2023-05-28   \n",
       "1  19744  2022-08-05  2023-05-27   \n",
       "2  19799  2022-08-12  2023-06-04   \n",
       "3  19806  2022-08-13  2023-06-11   \n",
       "4  21646  2023-08-11  2024-05-19   \n",
       "\n",
       "                                               teams  \n",
       "0  [78, 11, 8, 19, 42, 29, 71, 51, 14, 236, 52, 2...  \n",
       "1  [3317, 1079, 510, 3321, 3543, 68, 82, 3320, 67...  \n",
       "2  [3477, 3468, 485, 36, 1099, 361, 6827, 645, 23...  \n",
       "3  [10722, 2930, 397, 522, 1123, 625, 345, 1628, ...  \n",
       "4  [78, 11, 8, 19, 29, 115, 51, 21, 14, 236, 52, ...  "
      ]
     },
     "execution_count": 54,
     "metadata": {},
     "output_type": "execute_result"
    }
   ],
   "source": [
    "season_dict = pd.DataFrame.from_dict(season_dict)\n",
    "season_dict.to_csv('data/seasons_info.csv')\n",
    "season_dict.head()"
   ]
  },
  {
   "cell_type": "code",
   "execution_count": 63,
   "metadata": {},
   "outputs": [
    {
     "name": "stdout",
     "output_type": "stream",
     "text": [
      "2022-08-05 2023-05-28 [78, 11, 8, 19, 42, 29, 71, 51, 14, 236, 52, 20, 63, 13, 9, 1, 65, 18, 15, 6] 19734\n",
      "2022-08-05 2023-05-27 [3317, 1079, 510, 3321, 3543, 68, 82, 3320, 67, 277, 90, 683, 3319, 999, 2726, 366, 794, 503] 19744\n",
      "2022-08-12 2023-06-04 [3477, 3468, 485, 36, 1099, 361, 6827, 645, 231, 676, 83, 594, 214, 7980, 618, 106, 13258, 528, 459, 377] 19799\n",
      "2022-08-13 2023-06-11 [10722, 2930, 397, 522, 1123, 625, 345, 1628, 708, 346, 7743, 113, 109, 43, 37, 613, 7790, 8513, 2714, 597] 19806\n",
      "2023-08-11 2024-05-19 [78, 11, 8, 19, 29, 115, 51, 21, 14, 236, 52, 20, 63, 13, 9, 1, 18, 15, 6, 27] 21646\n",
      "2023-08-11 2024-05-26 [377, 3477, 3468, 103, 485, 2921, 36, 6827, 645, 231, 676, 83, 2975, 594, 214, 7980, 618, 106, 13258, 459] 21694\n",
      "2023-08-18 2024-05-18 [1079, 510, 3321, 3543, 68, 82, 3320, 277, 90, 683, 3319, 2831, 999, 2726, 482, 366, 794, 503] 21795\n",
      "2023-08-19 2024-06-02 [1628, 708, 346, 7743, 113, 102, 109, 43, 37, 4070, 613, 7790, 8513, 2714, 597, 2930, 397, 1123, 625, 585] 21818\n",
      "2020-09-18 2021-05-22 [3317, 1079, 510, 3321, 3543, 68, 82, 2927, 3320, 67, 277, 90, 683, 3319, 2726, 366, 794, 503] 17361\n",
      "2020-09-12 2021-05-23 [78, 11, 8, 19, 42, 29, 71, 51, 21, 14, 20, 13, 10, 9, 1, 65, 18, 15, 6, 27] 17420\n",
      "2020-09-12 2021-05-23 [3477, 3468, 103, 485, 36, 3457, 1099, 60, 361, 6827, 676, 83, 2975, 594, 214, 7980, 106, 13258, 459, 274] 17480\n",
      "2020-09-19 2021-05-23 [2930, 563, 522, 1123, 625, 585, 345, 89, 708, 346, 113, 102, 109, 43, 37, 613, 8513, 2714, 597, 398] 17488\n",
      "2021-08-13 2022-05-22 [78, 8, 19, 42, 25, 29, 71, 51, 14, 236, 20, 33, 13, 9, 1, 65, 18, 15, 6, 27] 18378\n",
      "2021-08-13 2022-05-14 [3317, 1079, 510, 3321, 3543, 68, 2927, 3431, 3320, 277, 90, 683, 3319, 999, 2726, 366, 794, 503] 18444\n",
      "2021-08-13 2022-05-22 [377, 3477, 3468, 103, 485, 36, 3457, 1099, 6827, 645, 676, 83, 2975, 594, 214, 7980, 106, 13258, 528, 459] 18462\n",
      "2021-08-21 2022-05-22 [2930, 397, 522, 1123, 625, 585, 345, 708, 346, 7743, 267, 113, 102, 109, 43, 37, 613, 8513, 2714, 597] 18576\n",
      "2018-08-10 2019-05-12 [78, 11, 8, 19, 42, 69, 25, 29, 51, 14, 52, 20, 13, 9, 251, 1, 65, 18, 6, 27] 12962\n",
      "2018-08-24 2019-05-18 [510, 3321, 3543, 68, 82, 67, 277, 90, 1092, 683, 3319, 956, 2554, 2726, 366, 794, 503, 3317] 13005\n",
      "2018-08-17 2019-05-19 [3477, 3468, 485, 36, 3457, 60, 361, 231, 676, 83, 2975, 594, 214, 7980, 844, 106, 13258, 528, 274, 377] 13133\n",
      "2018-08-18 2019-05-26 [708, 346, 394, 113, 102, 97, 109, 43, 37, 4070, 613, 8513, 2714, 597, 398, 2930, 397, 522, 625, 585] 13158\n",
      "2019-08-09 2020-07-26 [78, 8, 19, 42, 25, 29, 51, 21, 14, 52, 20, 33, 13, 9, 1, 65, 18, 15, 6, 27] 16036\n",
      "2019-08-16 2020-06-27 [3317, 1079, 510, 3321, 3543, 68, 82, 3320, 67, 277, 90, 1092, 683, 2642, 2726, 366, 794, 503] 16264\n",
      "2019-08-16 2020-07-19 [3477, 3468, 103, 485, 36, 3457, 60, 361, 645, 676, 83, 2975, 594, 214, 7980, 844, 106, 13258, 528, 459] 16326\n",
      "2019-08-24 2020-08-02 [708, 346, 10729, 394, 113, 102, 109, 43, 37, 613, 7790, 8513, 2714, 597, 398, 2930, 522, 1123, 625, 585] 16415\n",
      "2016-08-13 2017-05-21 [8, 19, 42, 25, 30, 51, 14, 3, 52, 22, 13, 10, 9, 7, 1, 65, 18, 6, 26, 27] 13\n",
      "2016-08-26 2017-05-20 [2726, 482, 366, 794, 503, 2708, 3317, 573, 510, 3321, 3543, 68, 82, 3320, 67, 277, 90, 683] 219\n",
      "2016-08-20 2017-05-28 [89, 708, 346, 1216, 113, 102, 97, 109, 43, 37, 613, 1343, 8513, 2714, 597, 2930, 397, 522, 625, 585] 802\n",
      "2016-08-19 2017-05-21 [126, 3477, 3468, 103, 485, 344, 429, 2921, 36, 60, 676, 83, 2975, 594, 214, 7980, 844, 13258, 528, 459] 853\n",
      "2017-08-11 2018-05-13 [78, 8, 19, 42, 25, 30, 51, 14, 52, 20, 13, 10, 9, 251, 1, 65, 18, 6, 26, 27] 6397\n",
      "2017-08-18 2018-05-12 [510, 3321, 3543, 68, 82, 3320, 67, 277, 90, 683, 3319, 2554, 2726, 366, 794, 503, 2708, 3317] 8026\n",
      "2017-08-18 2018-05-20 [3477, 3468, 485, 429, 2921, 36, 3457, 60, 231, 676, 83, 2975, 594, 214, 7980, 844, 106, 13258, 528, 126] 8442\n",
      "2017-08-19 2018-05-20 [89, 708, 346, 394, 113, 102, 97, 109, 43, 37, 613, 8513, 2714, 597, 2930, 563, 522, 1123, 625, 585] 8557\n",
      "2015-08-08 2016-05-17 [8, 19, 42, 25, 30, 51, 14, 3, 52, 20, 33, 13, 10, 9, 1, 65, 18, 15, 6, 26] 10\n",
      "2014-08-16 2015-05-24 [8, 19, 42, 30, 51, 47, 14, 3, 22, 20, 13, 10, 9, 1, 65, 18, 15, 6, 26, 27] 12\n",
      "2014-08-22 2015-05-23 [510, 3321, 3543, 68, 82, 3320, 67, 90, 683, 3319, 2642, 2554, 2726, 366, 794, 503, 2708, 3317] 217\n",
      "2015-08-14 2016-05-14 [2554, 2726, 482, 366, 794, 503, 2708, 3317, 573, 510, 3321, 68, 82, 3320, 67, 90, 683, 3319] 218\n",
      "2014-08-30 2015-05-31 [708, 346, 1216, 113, 102, 97, 109, 43, 37, 613, 2714, 597, 398, 1234, 2930, 397, 522, 1123, 625, 585] 1583\n",
      "2015-08-22 2016-05-15 [708, 346, 10824, 1216, 113, 102, 97, 109, 43, 37, 4070, 613, 8513, 2714, 597, 2930, 397, 522, 1123, 625] 1584\n",
      "2014-08-23 2015-05-23 [429, 36, 3457, 1099, 60, 676, 83, 594, 214, 7980, 618, 106, 13258, 528, 931, 377, 126, 3477, 3468, 103] 2061\n",
      "2015-08-21 2016-05-15 [377, 126, 3477, 3468, 103, 485, 344, 429, 2921, 36, 3457, 60, 676, 83, 594, 214, 7980, 106, 13258, 528] 2063\n",
      "2013-08-17 2014-05-11 [11, 8, 19, 69, 30, 51, 14, 3, 22, 20, 33, 13, 10, 9, 1, 65, 18, 15, 6, 26] 3\n",
      "2012-08-18 2013-05-19 [11, 8, 19, 30, 47, 14, 3, 17, 20, 33, 13, 10, 9, 1, 65, 18, 15, 6, 26, 23] 7\n",
      "2012-08-24 2013-05-18 [510, 3321, 3543, 68, 82, 3431, 67, 90, 1092, 683, 3319, 956, 2554, 2726, 366, 794, 503, 2708] 215\n",
      "2013-08-09 2014-05-10 [510, 3321, 3565, 3543, 68, 82, 67, 90, 683, 3319, 956, 2554, 2726, 366, 794, 503, 2708, 3317] 216\n",
      "2012-08-25 2013-05-19 [9133, 708, 346, 3691, 1216, 113, 102, 97, 109, 43, 37, 613, 1343, 8513, 597, 398, 2930, 522, 625, 585] 1581\n",
      "2013-08-24 2014-05-18 [9133, 708, 346, 10714, 113, 102, 97, 109, 43, 37, 613, 8513, 2714, 597, 398, 2930, 522, 1123, 625, 585] 1582\n",
      "2012-08-18 2013-06-01 [3468, 103, 485, 429, 3968, 36, 3457, 361, 645, 676, 83, 594, 214, 7980, 106, 13258, 528, 459, 377, 126] 2059\n",
      "2013-08-17 2014-05-18 [377, 126, 3477, 3468, 103, 485, 36, 3457, 1099, 361, 676, 83, 594, 214, 7980, 618, 106, 13258, 528, 459] 2060\n"
     ]
    }
   ],
   "source": [
    "start_dates = season_dict['starting_at']\n",
    "end_dates = season_dict['ending_at']\n",
    "teams_inSeasons = season_dict['teams']\n",
    "season_id = season_dict['id']\n",
    "\n",
    "# This allows you to work with all rows at once\n",
    "for start_date, end_date, teams_inSeason, season_id in zip(start_dates, end_dates, teams_inSeasons, season_id):\n",
    "    print(start_date, end_date, teams_inSeason, season_id)"
   ]
  }
 ],
 "metadata": {
  "kernelspec": {
   "display_name": "Python 3",
   "language": "python",
   "name": "python3"
  },
  "language_info": {
   "codemirror_mode": {
    "name": "ipython",
    "version": 3
   },
   "file_extension": ".py",
   "mimetype": "text/x-python",
   "name": "python",
   "nbconvert_exporter": "python",
   "pygments_lexer": "ipython3",
   "version": "3.12.3"
  }
 },
 "nbformat": 4,
 "nbformat_minor": 2
}
