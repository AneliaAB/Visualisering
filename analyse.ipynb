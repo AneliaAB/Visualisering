{
 "cells": [
  {
   "cell_type": "code",
   "execution_count": 55,
   "metadata": {},
   "outputs": [],
   "source": [
    "import requests\n",
    "import pandas as pd\n",
    "import time\n",
    "from pygame import mixer #for sound\n",
    "from datetime import datetime, timedelta #for looping over date\n",
    "import numpy as np\n",
    "import os\n",
    "import re"
   ]
  },
  {
   "cell_type": "markdown",
   "metadata": {},
   "source": [
    "Find relevant season ID's"
   ]
  },
  {
   "cell_type": "code",
   "execution_count": 46,
   "metadata": {},
   "outputs": [],
   "source": [
    "seasons_info = pd.read_csv('data/seasons_info.csv', index_col=0)"
   ]
  },
  {
   "cell_type": "code",
   "execution_count": 48,
   "metadata": {},
   "outputs": [],
   "source": [
    "index_rows = []\n",
    "for year in ['2020', '2021', '2022', '2023']:\n",
    "    frames = [index for index, row in seasons_info.iterrows() if row['starting_at'].split('-')[0]==year]\n",
    "    index_rows = index_rows + frames\n",
    "index_rows\n",
    "\n",
    "relevant_seasons = seasons_info.iloc[index_rows,:]"
   ]
  },
  {
   "cell_type": "code",
   "execution_count": 52,
   "metadata": {},
   "outputs": [],
   "source": [
    "relevant_seasons.to_csv('data/analyse/relevant_seasons.csv', index=False)"
   ]
  },
  {
   "cell_type": "markdown",
   "metadata": {},
   "source": [
    "Count types of events for seasons/leagues"
   ]
  },
  {
   "cell_type": "code",
   "execution_count": 109,
   "metadata": {},
   "outputs": [],
   "source": [
    "eventType_dict = {'typeId':[], 'count':[], 'season':[]}"
   ]
  },
  {
   "cell_type": "code",
   "execution_count": 110,
   "metadata": {},
   "outputs": [],
   "source": [
    "id_list = [i for i in relevant_seasons['id']]\n",
    "path = 'data/events'\n",
    "for file in os.listdir(path):\n",
    "    if int(file.split('_')[1].strip('.csv')) in id_list:\n",
    "        event_file = pd.read_csv(f'{path}/{file}')\n",
    "        for index, value in event_file['type_id'].value_counts().items():\n",
    "            eventType_dict['typeId'].append(index)\n",
    "            eventType_dict['count'].append(value)\n",
    "            eventType_dict['season'].append(int(file.split('_')[1].strip('.csv')))"
   ]
  },
  {
   "cell_type": "code",
   "execution_count": 111,
   "metadata": {},
   "outputs": [],
   "source": [
    "eventType_dict = pd.DataFrame.from_dict(eventType_dict)\n",
    "#eventType_dict.to_csv('data/analyse/allEvents.csv', index=False)"
   ]
  },
  {
   "cell_type": "markdown",
   "metadata": {},
   "source": [
    "Merge dfs"
   ]
  },
  {
   "cell_type": "code",
   "execution_count": 112,
   "metadata": {},
   "outputs": [
    {
     "data": {
      "text/html": [
       "<div>\n",
       "<style scoped>\n",
       "    .dataframe tbody tr th:only-of-type {\n",
       "        vertical-align: middle;\n",
       "    }\n",
       "\n",
       "    .dataframe tbody tr th {\n",
       "        vertical-align: top;\n",
       "    }\n",
       "\n",
       "    .dataframe thead th {\n",
       "        text-align: right;\n",
       "    }\n",
       "</style>\n",
       "<table border=\"1\" class=\"dataframe\">\n",
       "  <thead>\n",
       "    <tr style=\"text-align: right;\">\n",
       "      <th></th>\n",
       "      <th>typeId</th>\n",
       "      <th>count</th>\n",
       "      <th>season</th>\n",
       "      <th>id</th>\n",
       "      <th>league_id</th>\n",
       "      <th>name</th>\n",
       "    </tr>\n",
       "  </thead>\n",
       "  <tbody>\n",
       "    <tr>\n",
       "      <th>0</th>\n",
       "      <td>19</td>\n",
       "      <td>1818</td>\n",
       "      <td>17361</td>\n",
       "      <td>17361</td>\n",
       "      <td>82</td>\n",
       "      <td>2020/2021</td>\n",
       "    </tr>\n",
       "    <tr>\n",
       "      <th>1</th>\n",
       "      <td>10</td>\n",
       "      <td>140</td>\n",
       "      <td>17361</td>\n",
       "      <td>17361</td>\n",
       "      <td>82</td>\n",
       "      <td>2020/2021</td>\n",
       "    </tr>\n",
       "    <tr>\n",
       "      <th>2</th>\n",
       "      <td>21</td>\n",
       "      <td>30</td>\n",
       "      <td>17361</td>\n",
       "      <td>17361</td>\n",
       "      <td>82</td>\n",
       "      <td>2020/2021</td>\n",
       "    </tr>\n",
       "    <tr>\n",
       "      <th>3</th>\n",
       "      <td>20</td>\n",
       "      <td>22</td>\n",
       "      <td>17361</td>\n",
       "      <td>17361</td>\n",
       "      <td>82</td>\n",
       "      <td>2020/2021</td>\n",
       "    </tr>\n",
       "    <tr>\n",
       "      <th>4</th>\n",
       "      <td>19</td>\n",
       "      <td>1965</td>\n",
       "      <td>17420</td>\n",
       "      <td>17420</td>\n",
       "      <td>8</td>\n",
       "      <td>2020/2021</td>\n",
       "    </tr>\n",
       "    <tr>\n",
       "      <th>...</th>\n",
       "      <td>...</td>\n",
       "      <td>...</td>\n",
       "      <td>...</td>\n",
       "      <td>...</td>\n",
       "      <td>...</td>\n",
       "      <td>...</td>\n",
       "    </tr>\n",
       "    <tr>\n",
       "      <th>59</th>\n",
       "      <td>20</td>\n",
       "      <td>38</td>\n",
       "      <td>21795</td>\n",
       "      <td>21795</td>\n",
       "      <td>82</td>\n",
       "      <td>2023/2024</td>\n",
       "    </tr>\n",
       "    <tr>\n",
       "      <th>60</th>\n",
       "      <td>19</td>\n",
       "      <td>2690</td>\n",
       "      <td>21818</td>\n",
       "      <td>21818</td>\n",
       "      <td>384</td>\n",
       "      <td>2023/2024</td>\n",
       "    </tr>\n",
       "    <tr>\n",
       "      <th>61</th>\n",
       "      <td>10</td>\n",
       "      <td>258</td>\n",
       "      <td>21818</td>\n",
       "      <td>21818</td>\n",
       "      <td>384</td>\n",
       "      <td>2023/2024</td>\n",
       "    </tr>\n",
       "    <tr>\n",
       "      <th>62</th>\n",
       "      <td>20</td>\n",
       "      <td>78</td>\n",
       "      <td>21818</td>\n",
       "      <td>21818</td>\n",
       "      <td>384</td>\n",
       "      <td>2023/2024</td>\n",
       "    </tr>\n",
       "    <tr>\n",
       "      <th>63</th>\n",
       "      <td>21</td>\n",
       "      <td>56</td>\n",
       "      <td>21818</td>\n",
       "      <td>21818</td>\n",
       "      <td>384</td>\n",
       "      <td>2023/2024</td>\n",
       "    </tr>\n",
       "  </tbody>\n",
       "</table>\n",
       "<p>64 rows × 6 columns</p>\n",
       "</div>"
      ],
      "text/plain": [
       "    typeId  count  season     id  league_id       name\n",
       "0       19   1818   17361  17361         82  2020/2021\n",
       "1       10    140   17361  17361         82  2020/2021\n",
       "2       21     30   17361  17361         82  2020/2021\n",
       "3       20     22   17361  17361         82  2020/2021\n",
       "4       19   1965   17420  17420          8  2020/2021\n",
       "..     ...    ...     ...    ...        ...        ...\n",
       "59      20     38   21795  21795         82  2023/2024\n",
       "60      19   2690   21818  21818        384  2023/2024\n",
       "61      10    258   21818  21818        384  2023/2024\n",
       "62      20     78   21818  21818        384  2023/2024\n",
       "63      21     56   21818  21818        384  2023/2024\n",
       "\n",
       "[64 rows x 6 columns]"
      ]
     },
     "execution_count": 112,
     "metadata": {},
     "output_type": "execute_result"
    }
   ],
   "source": [
    "seasons = pd.read_csv('data/seasons.csv', index_col=0)\n",
    "eventType_dict = eventType_dict.merge(seasons[[\"id\", \"league_id\", \"name\"]], left_on='season', right_on='id')\n",
    "eventType_dict "
   ]
  },
  {
   "cell_type": "code",
   "execution_count": 113,
   "metadata": {},
   "outputs": [],
   "source": [
    "\n",
    "eventType_dict.to_csv('data/analyse/allEvents.csv', index=False)"
   ]
  }
 ],
 "metadata": {
  "kernelspec": {
   "display_name": "Python 3",
   "language": "python",
   "name": "python3"
  },
  "language_info": {
   "codemirror_mode": {
    "name": "ipython",
    "version": 3
   },
   "file_extension": ".py",
   "mimetype": "text/x-python",
   "name": "python",
   "nbconvert_exporter": "python",
   "pygments_lexer": "ipython3",
   "version": "3.12.3"
  }
 },
 "nbformat": 4,
 "nbformat_minor": 2
}
