{
 "cells": [
  {
   "cell_type": "code",
   "execution_count": 3,
   "metadata": {},
   "outputs": [],
   "source": [
    "import requests\n",
    "import pandas as pd\n",
    "import time\n",
    "from pygame import mixer #for sound\n",
    "from datetime import datetime, timedelta #for looping over date\n",
    "import numpy as np\n",
    "import os"
   ]
  },
  {
   "cell_type": "code",
   "execution_count": 12,
   "metadata": {},
   "outputs": [
    {
     "name": "stdout",
     "output_type": "stream",
     "text": [
      "No VAR for events_10.csv\n",
      "No VAR for events_12.csv\n",
      "No VAR for events_12962.csv\n",
      "No VAR for events_13.csv\n",
      "No VAR for events_13005.csv\n",
      "No VAR for events_13133.csv\n",
      "No VAR for events_1581.csv\n",
      "No VAR for events_1582.csv\n",
      "No VAR for events_1583.csv\n",
      "No VAR for events_1584.csv\n",
      "No VAR for events_2059.csv\n",
      "No VAR for events_2060.csv\n",
      "No VAR for events_2061.csv\n",
      "No VAR for events_2063.csv\n",
      "No VAR for events_215.csv\n",
      "No VAR for events_216.csv\n",
      "No VAR for events_217.csv\n",
      "No VAR for events_218.csv\n",
      "No VAR for events_219.csv\n",
      "No VAR for events_3.csv\n",
      "No VAR for events_6397.csv\n",
      "No VAR for events_7.csv\n",
      "No VAR for events_802.csv\n",
      "No VAR for events_8026.csv\n",
      "No VAR for events_8442.csv\n",
      "No VAR for events_853.csv\n",
      "No VAR for events_8557.csv\n"
     ]
    }
   ],
   "source": [
    "directory = 'data/events'\n",
    "var_count = 0\n",
    " \n",
    "# iterate over files in\n",
    "# that directory\n",
    "for filename in os.listdir(directory):\n",
    "    data = pd.read_csv(f'data/events/{filename}')\n",
    "    try:\n",
    "        var_count = var_count + data['type_id'].value_counts()[10]\n",
    "    except:\n",
    "        print(f'No VAR for {filename}')\n"
   ]
  },
  {
   "cell_type": "code",
   "execution_count": 13,
   "metadata": {},
   "outputs": [
    {
     "data": {
      "text/plain": [
       "np.int64(4151)"
      ]
     },
     "execution_count": 13,
     "metadata": {},
     "output_type": "execute_result"
    }
   ],
   "source": [
    "var_count"
   ]
  }
 ],
 "metadata": {
  "kernelspec": {
   "display_name": "Python 3",
   "language": "python",
   "name": "python3"
  },
  "language_info": {
   "codemirror_mode": {
    "name": "ipython",
    "version": 3
   },
   "file_extension": ".py",
   "mimetype": "text/x-python",
   "name": "python",
   "nbconvert_exporter": "python",
   "pygments_lexer": "ipython3",
   "version": "3.12.3"
  }
 },
 "nbformat": 4,
 "nbformat_minor": 2
}
